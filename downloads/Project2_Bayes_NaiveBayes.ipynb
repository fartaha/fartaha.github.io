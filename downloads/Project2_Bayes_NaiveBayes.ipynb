{
  "cells": [
    {
      "cell_type": "markdown",
      "metadata": {
        "id": "9hTeD-qgjZv8"
      },
      "source": [
        "**Bayes and Naive Bayes Implementation and Analysis**"
      ]
    },
    {
      "cell_type": "code",
      "execution_count": 4,
      "metadata": {
        "id": "v7qPp64VjaKc"
      },
      "outputs": [],
      "source": [
        "# ---------------------------------\n",
        "# Machine Learning Project work\n",
        "# Taha Heidari\n",
        "# 2021\n",
        "# Bayes and Naive Bayes Implementation and Analysis\n",
        "# Dataset: IRIS Dataset\n",
        "# ---------------------------------\n",
        "# Obejctives: \n",
        "# Task: Implement the classifier without using ready-made Python Libraries"
      ]
    },
    {
      "cell_type": "markdown",
      "metadata": {
        "id": "o6mmpX4E7EXU"
      },
      "source": [
        "**Import librararies**"
      ]
    },
    {
      "cell_type": "code",
      "execution_count": 57,
      "metadata": {
        "id": "wCZ-yitudIpx"
      },
      "outputs": [],
      "source": [
        "import matplotlib.pyplot as plt\n",
        "import numpy as np\n",
        "from sklearn.datasets import load_iris\n",
        "from sklearn.model_selection import train_test_split, KFold \n",
        "from sklearn.metrics import accuracy_score, confusion_matrix\n",
        "from scipy.stats import multivariate_normal\n",
        "from math import sqrt, pi, exp\n"
      ]
    },
    {
      "cell_type": "markdown",
      "metadata": {
        "id": "kBKSY-qLsRvV"
      },
      "source": [
        "**Import Dataset**"
      ]
    },
    {
      "cell_type": "code",
      "execution_count": 6,
      "metadata": {
        "id": "w5Hx2lGPdK3r"
      },
      "outputs": [],
      "source": [
        "iris = load_iris()\n",
        "x_data = iris.data \n",
        "y_data = iris.target"
      ]
    },
    {
      "cell_type": "markdown",
      "metadata": {
        "id": "LqHnvS6-dJo2"
      },
      "source": [
        "# **A**"
      ]
    },
    {
      "cell_type": "markdown",
      "metadata": {
        "id": "xfx2KhcNsThD"
      },
      "source": [
        "**Split Dataset**"
      ]
    },
    {
      "cell_type": "code",
      "execution_count": 81,
      "metadata": {
        "colab": {
          "base_uri": "https://localhost:8080/"
        },
        "id": "TbaRfJ95fcW2",
        "outputId": "9df52ba2-287f-415b-ae9c-456d9c37f7e3"
      },
      "outputs": [
        {
          "name": "stdout",
          "output_type": "stream",
          "text": [
            "Number of Samples: 150\n",
            "Number of Train Samples: 105\n",
            "Number of Test Samples: 45\n"
          ]
        }
      ],
      "source": [
        "x_train, x_test, y_train, y_test = train_test_split(x_data, y_data, test_size=0.30)\n",
        "print('Number of Samples:', x_data.shape[0])\n",
        "print('Number of Train Samples:', x_train.shape[0])\n",
        "print('Number of Test Samples:', x_test.shape[0])"
      ]
    },
    {
      "cell_type": "markdown",
      "metadata": {
        "id": "jd607DCjsVKE"
      },
      "source": [
        "**Bayes Classifier**"
      ]
    },
    {
      "cell_type": "code",
      "execution_count": 82,
      "metadata": {
        "id": "bVuSEQmveyx6"
      },
      "outputs": [],
      "source": [
        "class Bayes_Classifier:\n",
        "    mu = None\n",
        "    cov = None\n",
        "    n_classes = None\n",
        "    def __init__(self):\n",
        "        a = None\n",
        "    def pred(self,x):\n",
        "        prob_vect = np.zeros(self.n_classes)\n",
        "        for i in range(self.n_classes):\n",
        "            mnormal = multivariate_normal(mean=bayes_classifier.mu[i], cov=bayes_classifier.cov[i])\n",
        "            prior = 1./self.n_classes\n",
        "            prob_vect[i] = prior*mnormal.pdf(x)\n",
        "            sumatory = 0.\n",
        "            for j in range(self.n_classes):\n",
        "                mnormal = multivariate_normal(mean=bayes_classifier.mu[j], cov=bayes_classifier.cov[j])\n",
        "                sumatory += prior*mnormal.pdf(x)\n",
        "            prob_vect[i] = prob_vect[i]/sumatory\n",
        "        return prob_vect\n",
        "    def fit(self, X,y):\n",
        "        self.mu = []\n",
        "        self.cov = []\n",
        "        self.n_classes = np.max(y)+1\n",
        "        for i in range(self.n_classes):\n",
        "            Xc = X[y==i]\n",
        "            mu_c = np.mean(Xc, axis=0)\n",
        "            self.mu.append(mu_c)\n",
        "            cov_c = np.zeros((X.shape[1], X.shape[1]))\n",
        "            for j in range( Xc.shape[0]):\n",
        "                a = Xc[j].reshape((X.shape[1],1))\n",
        "                b = Xc[j].reshape((1,X.shape[1]))\n",
        "                cov_ci = np.multiply(a, b)\n",
        "                cov_c = cov_c+cov_ci\n",
        "            cov_c = cov_c/float(X.shape[0])\n",
        "            self.cov.append(cov_c)\n",
        "        self.mu = np.asarray(self.mu)\n",
        "        self.cov = np.asarray(self.cov)"
      ]
    },
    {
      "cell_type": "markdown",
      "metadata": {
        "id": "sRE5uEnDsXdS"
      },
      "source": [
        "**Fit & Predict**"
      ]
    },
    {
      "cell_type": "code",
      "execution_count": 83,
      "metadata": {
        "id": "ZXof9RKG8pAb"
      },
      "outputs": [],
      "source": [
        "# Lists\n",
        "y_train_acc_list = []\n",
        "conf_mat_train_list = []\n",
        "y_test_acc_list = []\n",
        "conf_mat_test_list = []\n",
        "\n",
        "\n",
        "for count in range (4):    \n",
        "  # Splite\n",
        "  x_train, x_test, y_train, y_test = train_test_split(x_data, y_data, test_size=0.30)\n",
        "\n",
        "  # Fit\n",
        "  bayes_classifier = Bayes_Classifier()\n",
        "  bayes_classifier.fit(x_train,y_train)\n",
        "\n",
        "  # Pridict\n",
        "  y_train_pred = []\n",
        "  for i in range(x_train.shape[0]):\n",
        "    y_train_pred_prob = bayes_classifier.pred(x_train[i,:])\n",
        "    if (y_train_pred_prob[0] > y_train_pred_prob[1]) & (y_train_pred_prob[0] > y_train_pred_prob[2]):\n",
        "      y_train_pred.append(0)\n",
        "    elif (y_train_pred_prob[1] > y_train_pred_prob[0]) & (y_train_pred_prob[1] > y_train_pred_prob[2]):\n",
        "      y_train_pred.append(1)\n",
        "    else :\n",
        "      y_train_pred.append(2)\n",
        "  y_train_pred = np.array(y_train_pred)\n",
        "  y_test_pred = []\n",
        "  for i in range(x_test.shape[0]):\n",
        "    y_test_pred_prob = bayes_classifier.pred(x_test[i,:])\n",
        "    if (y_test_pred_prob[0] > y_test_pred_prob[1]) & (y_test_pred_prob[0] > y_test_pred_prob[2]):\n",
        "      y_test_pred.append(0)\n",
        "    elif (y_test_pred_prob[1] > y_test_pred_prob[0]) & (y_test_pred_prob[1] > y_test_pred_prob[2]):\n",
        "      y_test_pred.append(1)\n",
        "    else :\n",
        "      y_test_pred.append(2)\n",
        "  y_test_acc_list.append(y_test_acc)\n",
        "\n",
        "  # Train: Accuracy & Confusion Matrix\n",
        "  y_train_acc = accuracy_score(y_train, y_train_pred)\n",
        "  y_train_acc_list.append(y_train_acc)\n",
        "  conf_mat_train = confusion_matrix(y_train, y_train_pred)\n",
        "  conf_mat_train_list.append(conf_mat_train)\n",
        "\n",
        "  # Test: Accuracy & Confusion Matrix\n",
        "  y_test_pred = np.array(y_test_pred)\n",
        "  y_test_acc = accuracy_score(y_test, y_test_pred)\n",
        "  conf_mat_test = confusion_matrix(y_test, y_test_pred)\n",
        "  conf_mat_test_list.append(conf_mat_test)"
      ]
    },
    {
      "cell_type": "markdown",
      "metadata": {
        "id": "VoYcnToj9XTC"
      },
      "source": [
        "**Result: Accuracy**"
      ]
    },
    {
      "cell_type": "code",
      "execution_count": 84,
      "metadata": {
        "colab": {
          "base_uri": "https://localhost:8080/"
        },
        "id": "8N99TGQ59XTD",
        "outputId": "51e88529-33fa-4d5e-8a8b-9c9e1fa196f3"
      },
      "outputs": [
        {
          "name": "stdout",
          "output_type": "stream",
          "text": [
            "Train Accuracy of Fold # 1  =  97.14285714285714 %\n",
            "Train Accuracy of Fold # 2  =  97.14285714285714 %\n",
            "Train Accuracy of Fold # 3  =  97.14285714285714 %\n",
            "Train Accuracy of Fold # 4  =  97.14285714285714 %\n",
            "Train Accuracy Avrage  =  97.14285714285714 %\n",
            "Test Accuracy of Fold # 1  =  73.33333333333333 %\n",
            "Test Accuracy of Fold # 2  =  95.55555555555556 %\n",
            "Test Accuracy of Fold # 3  =  95.55555555555556 %\n",
            "Test Accuracy of Fold # 4  =  97.77777777777777 %\n",
            "Test Accuracy Avrage  =  90.55555555555556 %\n"
          ]
        }
      ],
      "source": [
        "for i in range(4):\n",
        "    print('Train Accuracy of Fold #', i + 1, ' = ', y_train_acc_list[i]*100.0, '%')\n",
        "print('Train Accuracy Avrage', ' = ', sum(y_train_acc_list)*100.0/ len(y_train_acc_list), '%' )\n",
        "\n",
        "for i in range(4):\n",
        "    print('Test Accuracy of Fold #', i + 1, ' = ', y_test_acc_list[i]*100.0, '%')\n",
        "print('Test Accuracy Avrage', ' = ', sum(y_test_acc_list)*100.0/ len(y_test_acc_list), '%' )"
      ]
    },
    {
      "cell_type": "markdown",
      "metadata": {
        "id": "1_DittIz9XTF"
      },
      "source": [
        "**Result: Confusion Matrix**"
      ]
    },
    {
      "cell_type": "code",
      "execution_count": 85,
      "metadata": {
        "colab": {
          "base_uri": "https://localhost:8080/"
        },
        "id": "AP_Y7seg9XTF",
        "outputId": "cda11d95-d807-4723-af0f-404ed9a98bfe"
      },
      "outputs": [
        {
          "name": "stdout",
          "output_type": "stream",
          "text": [
            "Train Confusion Matrix # 1  =  \n",
            " [[31  0  0]\n",
            " [ 0 33  3]\n",
            " [ 0  0 38]]\n",
            "Train Confusion Matrix # 2  =  \n",
            " [[35  0  0]\n",
            " [ 0 31  3]\n",
            " [ 0  0 36]]\n",
            "Train Confusion Matrix # 3  =  \n",
            " [[38  0  0]\n",
            " [ 0 28  3]\n",
            " [ 0  0 36]]\n",
            "Train Confusion Matrix # 4  =  \n",
            " [[39  0  0]\n",
            " [ 0 29  3]\n",
            " [ 0  0 34]]\n",
            "Train Confusion Matrix Avrage  =  \n",
            " [[35.75  0.    0.  ]\n",
            " [ 0.   30.25  3.  ]\n",
            " [ 0.    0.   36.  ]]\n",
            "Test Confusion Matrix # 1  =  \n",
            " [[19  0  0]\n",
            " [ 0 13  1]\n",
            " [ 0  1 11]]\n",
            "Test Confusion Matrix # 2  =  \n",
            " [[15  0  0]\n",
            " [ 0 14  2]\n",
            " [ 0  0 14]]\n",
            "Test Confusion Matrix # 3  =  \n",
            " [[12  0  0]\n",
            " [ 0 18  1]\n",
            " [ 0  0 14]]\n",
            "Test Confusion Matrix # 4  =  \n",
            " [[11  0  0]\n",
            " [ 0 17  1]\n",
            " [ 0  1 15]]\n",
            "Test Confusion Matrix Avrage  =  \n",
            " [[14.25  0.    0.  ]\n",
            " [ 0.   15.5   1.25]\n",
            " [ 0.    0.5  13.5 ]]\n"
          ]
        }
      ],
      "source": [
        "for i in range(4):\n",
        "    print('Train Confusion Matrix #', i + 1, ' = ', '\\n', conf_mat_train_list[i])\n",
        "print('Train Confusion Matrix Avrage', ' = ', '\\n', sum(conf_mat_train_list)/ len(y_train_acc_list))\n",
        "\n",
        "for i in range(4):\n",
        "    print('Test Confusion Matrix #', i + 1, ' = ', '\\n', conf_mat_test_list[i])\n",
        "print('Test Confusion Matrix Avrage', ' = ', '\\n', sum(conf_mat_test_list)/ len(y_test_acc_list))"
      ]
    },
    {
      "cell_type": "markdown",
      "metadata": {
        "id": "nTG_8iTtveKG"
      },
      "source": [
        "# **B**"
      ]
    },
    {
      "cell_type": "markdown",
      "metadata": {
        "id": "kfmKa6mGUYfw"
      },
      "source": [
        "**Bayes Classifier**"
      ]
    },
    {
      "cell_type": "code",
      "execution_count": 89,
      "metadata": {
        "id": "dZQOhzh3UYfx"
      },
      "outputs": [],
      "source": [
        "class Bayes_Classifier:\n",
        "    mu = None\n",
        "    cov = None\n",
        "    n_classes = None\n",
        "    def __init__(self):\n",
        "        a = None\n",
        "    def pred(self,x):\n",
        "        prob_vect = np.zeros(self.n_classes)\n",
        "        for i in range(self.n_classes):\n",
        "            mnormal = multivariate_normal(mean=bayes_classifier.mu[i], cov=bayes_classifier.cov[i])\n",
        "            prior = 1./self.n_classes\n",
        "            prob_vect[i] = prior*mnormal.pdf(x)\n",
        "            sumatory = 0.\n",
        "            for j in range(self.n_classes):\n",
        "                mnormal = multivariate_normal(mean=bayes_classifier.mu[j], cov=bayes_classifier.cov[j])\n",
        "                sumatory += prior*mnormal.pdf(x)\n",
        "            prob_vect[i] = prob_vect[i]/sumatory\n",
        "        return prob_vect\n",
        "    def fit(self, X,y):\n",
        "        self.mu = []\n",
        "        self.cov = []\n",
        "        self.n_classes = np.max(y)+1\n",
        "        for i in range(self.n_classes):\n",
        "            Xc = X[y==i]\n",
        "            mu_c = np.mean(Xc, axis=0)\n",
        "            self.mu.append(mu_c)\n",
        "            cov_c = np.zeros((X.shape[1], X.shape[1]))\n",
        "            for j in range( Xc.shape[0]):\n",
        "                a = Xc[j].reshape((X.shape[1],1))\n",
        "                b = Xc[j].reshape((1,X.shape[1]))\n",
        "                cov_ci = np.multiply(a, b)\n",
        "                cov_c = cov_c+cov_ci\n",
        "            cov_c = cov_c/float(X.shape[0])\n",
        "            self.cov.append(cov_c)\n",
        "        self.mu = np.asarray(self.mu)\n",
        "        self.cov = np.asarray(self.cov)"
      ]
    },
    {
      "cell_type": "markdown",
      "metadata": {
        "id": "F1RqmUFNMsvC"
      },
      "source": [
        "**Fit & Predict**"
      ]
    },
    {
      "cell_type": "code",
      "execution_count": 90,
      "metadata": {
        "id": "84CEZHSIve3U"
      },
      "outputs": [],
      "source": [
        "# K-Fold\n",
        "K_fold_cross_val = KFold(n_splits=4, shuffle=True)\n",
        "K_fold_cross_val.get_n_splits(x_data)\n",
        "\n",
        "# Lists\n",
        "y_train_acc_list = []\n",
        "conf_mat_train_list = []\n",
        "y_test_acc_list = []\n",
        "conf_mat_test_list = []\n",
        "\n",
        "# Fit\n",
        "for train_index, test_index in K_fold_cross_val.split(x_data):\n",
        "  x_train, x_test = x_data[train_index], x_data[test_index]\n",
        "  y_train, y_test = y_data[train_index], y_data[test_index]\n",
        "  bayes_classifier = Bayes_Classifier()\n",
        "  bayes_classifier.fit(x_train,y_train)\n",
        "  # Pridict\n",
        "  y_train_pred = []\n",
        "  for i in range(x_train.shape[0]):\n",
        "    y_train_pred_prob = bayes_classifier.pred(x_train[i,:])\n",
        "    if (y_train_pred_prob[0] > y_train_pred_prob[1]) & (y_train_pred_prob[0] > y_train_pred_prob[2]):\n",
        "      y_train_pred.append(0)\n",
        "    elif (y_train_pred_prob[1] > y_train_pred_prob[0]) & (y_train_pred_prob[1] > y_train_pred_prob[2]):\n",
        "      y_train_pred.append(1)\n",
        "    else :\n",
        "      y_train_pred.append(2)\n",
        "  y_train_pred = np.array(y_train_pred)\n",
        "  y_test_pred = []\n",
        "  for i in range(x_test.shape[0]):\n",
        "    y_test_pred_prob = bayes_classifier.pred(x_test[i,:])\n",
        "    if (y_test_pred_prob[0] > y_test_pred_prob[1]) & (y_test_pred_prob[0] > y_test_pred_prob[2]):\n",
        "      y_test_pred.append(0)\n",
        "    elif (y_test_pred_prob[1] > y_test_pred_prob[0]) & (y_test_pred_prob[1] > y_test_pred_prob[2]):\n",
        "      y_test_pred.append(1)\n",
        "    else :\n",
        "      y_test_pred.append(2)\n",
        "  y_test_acc_list.append(y_test_acc)\n",
        "\n",
        "  # Train: Accuracy & Confusion Matrix\n",
        "  y_train_acc = accuracy_score(y_train, y_train_pred)\n",
        "  y_train_acc_list.append(y_train_acc)\n",
        "  conf_mat_train = confusion_matrix(y_train, y_train_pred)\n",
        "  conf_mat_train_list.append(conf_mat_train)\n",
        "\n",
        "  # Test: Accuracy & Confusion Matrix\n",
        "  y_test_pred = np.array(y_test_pred)\n",
        "  y_test_acc = accuracy_score(y_test, y_test_pred)\n",
        "  conf_mat_test = confusion_matrix(y_test, y_test_pred)\n",
        "  conf_mat_test_list.append(conf_mat_test)\n"
      ]
    },
    {
      "cell_type": "markdown",
      "metadata": {
        "id": "UPdtyl8VM9Go"
      },
      "source": [
        "**Result: Accuracy**"
      ]
    },
    {
      "cell_type": "code",
      "execution_count": 91,
      "metadata": {
        "colab": {
          "base_uri": "https://localhost:8080/"
        },
        "id": "BFBiHtnO2tFj",
        "outputId": "38efd3f8-aa6b-4f38-f68d-8e7aa94a7df6"
      },
      "outputs": [
        {
          "name": "stdout",
          "output_type": "stream",
          "text": [
            "Train Accuracy of Fold # 1  =  98.21428571428571 %\n",
            "Train Accuracy of Fold # 2  =  96.42857142857143 %\n",
            "Train Accuracy of Fold # 3  =  94.69026548672566 %\n",
            "Train Accuracy of Fold # 4  =  96.46017699115043 %\n",
            "Train Accuracy Avrage  =  96.44832490518331 %\n",
            "Test Accuracy of Fold # 1  =  95.55555555555556 %\n",
            "Test Accuracy of Fold # 2  =  94.73684210526315 %\n",
            "Test Accuracy of Fold # 3  =  97.36842105263158 %\n",
            "Test Accuracy of Fold # 4  =  100.0 %\n",
            "Test Accuracy Avrage  =  96.91520467836257 %\n"
          ]
        }
      ],
      "source": [
        "for i in range(4):\n",
        "    print('Train Accuracy of Fold #', i + 1, ' = ', y_train_acc_list[i]*100.0, '%')\n",
        "print('Train Accuracy Avrage', ' = ', sum(y_train_acc_list)*100.0/ len(y_train_acc_list), '%' )\n",
        "\n",
        "for i in range(4):\n",
        "    print('Test Accuracy of Fold #', i + 1, ' = ', y_test_acc_list[i]*100.0, '%')\n",
        "print('Test Accuracy Avrage', ' = ', sum(y_test_acc_list)*100.0/ len(y_test_acc_list), '%' )"
      ]
    },
    {
      "cell_type": "markdown",
      "metadata": {
        "id": "tXhTP6zfM9Gs"
      },
      "source": [
        "**Result: Confusion Matrix**"
      ]
    },
    {
      "cell_type": "code",
      "execution_count": 92,
      "metadata": {
        "colab": {
          "base_uri": "https://localhost:8080/"
        },
        "id": "QnAonj2R2cEg",
        "outputId": "f3de89c3-1c3c-4214-defe-1f348c8c2067"
      },
      "outputs": [
        {
          "name": "stdout",
          "output_type": "stream",
          "text": [
            "Train Confusion Matrix of Fold # 1  =  \n",
            " [[41  0  0]\n",
            " [ 0 33  2]\n",
            " [ 0  0 36]]\n",
            "Train Confusion Matrix of Fold # 2  =  \n",
            " [[34  0  0]\n",
            " [ 0 38  3]\n",
            " [ 0  1 36]]\n",
            "Train Confusion Matrix of Fold # 3  =  \n",
            " [[38  0  0]\n",
            " [ 0 33  5]\n",
            " [ 0  1 36]]\n",
            "Train Confusion Matrix of Fold # 4  =  \n",
            " [[37  0  0]\n",
            " [ 0 33  3]\n",
            " [ 0  1 39]]\n",
            "Train Confusion Matrix Avrage  =  \n",
            " [[37.5   0.    0.  ]\n",
            " [ 0.   34.25  3.25]\n",
            " [ 0.    0.75 36.75]]\n",
            "Test Confusion Matrix of Fold # 1  =  \n",
            " [[ 9  0  0]\n",
            " [ 0 13  2]\n",
            " [ 0  0 14]]\n",
            "Test Confusion Matrix of Fold # 2  =  \n",
            " [[16  0  0]\n",
            " [ 0  9  0]\n",
            " [ 0  1 12]]\n",
            "Test Confusion Matrix of Fold # 3  =  \n",
            " [[12  0  0]\n",
            " [ 0 12  0]\n",
            " [ 0  0 13]]\n",
            "Test Confusion Matrix of Fold # 4  =  \n",
            " [[13  0  0]\n",
            " [ 0 12  2]\n",
            " [ 0  0 10]]\n",
            "Test Confusion Matrix Avrage  =  \n",
            " [[12.5   0.    0.  ]\n",
            " [ 0.   11.5   1.  ]\n",
            " [ 0.    0.25 12.25]]\n"
          ]
        }
      ],
      "source": [
        "for i in range(4):\n",
        "    print('Train Confusion Matrix of Fold #', i + 1, ' = ', '\\n', conf_mat_train_list[i])\n",
        "print('Train Confusion Matrix Avrage', ' = ', '\\n', sum(conf_mat_train_list)/ len(y_train_acc_list))\n",
        "\n",
        "for i in range(4):\n",
        "    print('Test Confusion Matrix of Fold #', i + 1, ' = ', '\\n', conf_mat_test_list[i])\n",
        "print('Test Confusion Matrix Avrage', ' = ', '\\n', sum(conf_mat_test_list)/ len(y_test_acc_list))"
      ]
    },
    {
      "cell_type": "markdown",
      "metadata": {
        "id": "dXTDPVcZND1F"
      },
      "source": [
        "# **C**"
      ]
    },
    {
      "cell_type": "markdown",
      "metadata": {
        "id": "PNbE6ZLSUExd"
      },
      "source": [
        "**A**"
      ]
    },
    {
      "cell_type": "code",
      "execution_count": 70,
      "metadata": {
        "colab": {
          "base_uri": "https://localhost:8080/"
        },
        "id": "XCeoeUVafB78",
        "outputId": "70d61a0d-54e4-4fb9-e224-616663eb7510"
      },
      "outputs": [
        {
          "name": "stdout",
          "output_type": "stream",
          "text": [
            "Train Accuracy  =  82.14285714285714 %\n",
            "Test Accuracy  =  71.05263157894737 %\n",
            "Train Confusion Matrix  =  \n",
            " [[35  0  0]\n",
            " [ 0 40  0]\n",
            " [ 0 20 17]]\n",
            "Test Confusion Matrix  =  \n",
            " [[15  0  0]\n",
            " [ 0 10  0]\n",
            " [ 0 11  2]]\n"
          ]
        }
      ],
      "source": [
        "x_train, x_test, y_train, y_test = train_test_split(x_data, y_data, test_size=0.25)\n",
        "\n",
        "class Bayes_Classifier:\n",
        "    mu = None\n",
        "    cov = None\n",
        "    n_classes = None\n",
        "    def __init__(self):\n",
        "        a = None\n",
        "    def pred(self,x):\n",
        "        prob_vect = np.zeros(self.n_classes)\n",
        "        for i in range(self.n_classes):\n",
        "            mnormal = multivariate_normal(mean=bayes_classifier.mu[i], cov=bayes_classifier.cov[i])\n",
        "            for k in range(bayes_classifier.cov.shape[-1]):\n",
        "              for j in range(bayes_classifier.cov.shape[-1]):\n",
        "                if k!=j:\n",
        "                  bayes_classifier.cov[:, k, j] = 0.0\n",
        "            prior = 1./self.n_classes\n",
        "            prob_vect[i] = prior*mnormal.pdf(x)\n",
        "            sumatory = 0.\n",
        "            for j in range(self.n_classes):\n",
        "                mnormal = multivariate_normal(mean=bayes_classifier.mu[j], cov=bayes_classifier.cov[j])\n",
        "                sumatory += prior*mnormal.pdf(x)\n",
        "            prob_vect[i] = prob_vect[i]/sumatory\n",
        "        return prob_vect\n",
        "    def fit(self, X,y):\n",
        "        self.mu = []\n",
        "        self.cov = []\n",
        "        self.n_classes = np.max(y)+1\n",
        "        for i in range(self.n_classes):\n",
        "            Xc = X[y==i]\n",
        "            mu_c = np.mean(Xc, axis=0)\n",
        "            self.mu.append(mu_c)\n",
        "            cov_c = np.zeros((X.shape[1], X.shape[1]))\n",
        "            for j in range( Xc.shape[0]):\n",
        "                a = Xc[j].reshape((X.shape[1],1))\n",
        "                b = Xc[j].reshape((1,X.shape[1]))\n",
        "                cov_ci = np.multiply(a, b)\n",
        "                cov_c = cov_c+cov_ci\n",
        "            cov_c = cov_c/float(X.shape[0])\n",
        "            self.cov.append(cov_c)\n",
        "        self.mu = np.asarray(self.mu)\n",
        "        self.cov = np.asarray(self.cov)\n",
        "\n",
        "# Fit\n",
        "bayes_classifier = Bayes_Classifier()\n",
        "bayes_classifier.fit(x_train,y_train)\n",
        "\n",
        "# Pridict\n",
        "# Train Data\n",
        "y_train_pred = []\n",
        "for i in range(x_train.shape[0]):\n",
        "  y_train_pred_prob = bayes_classifier.pred(x_train[i,:])\n",
        "  if (y_train_pred_prob[0] > y_train_pred_prob[1]) & (y_train_pred_prob[0] > y_train_pred_prob[2]):\n",
        "    y_train_pred.append(0)\n",
        "  elif (y_train_pred_prob[1] > y_train_pred_prob[0]) & (y_train_pred_prob[1] > y_train_pred_prob[2]):\n",
        "    y_train_pred.append(1)\n",
        "  else :\n",
        "    y_train_pred.append(2)\n",
        "y_train_pred = np.array(y_train_pred)\n",
        "\n",
        "# Test Data\n",
        "y_test_pred = []\n",
        "for i in range(x_test.shape[0]):\n",
        "  y_test_pred_prob = bayes_classifier.pred(x_test[i,:])\n",
        "  if (y_test_pred_prob[0] > y_test_pred_prob[1]) & (y_test_pred_prob[0] > y_test_pred_prob[2]):\n",
        "    y_test_pred.append(0)\n",
        "  elif (y_test_pred_prob[1] > y_test_pred_prob[0]) & (y_test_pred_prob[1] > y_test_pred_prob[2]):\n",
        "    y_test_pred.append(1)\n",
        "  else :\n",
        "    y_test_pred.append(2)\n",
        "y_test_pred = np.array(y_test_pred)\n",
        "\n",
        "y_train_acc = accuracy_score(y_train, y_train_pred)\n",
        "print('Train Accuracy',' = ', y_train_acc*100.0, '%')\n",
        "y_test_acc = accuracy_score(y_test, y_test_pred)\n",
        "print('Test Accuracy',' = ', y_test_acc*100.0, '%')\n",
        "\n",
        "conf_mat_train = confusion_matrix(y_train, y_train_pred)\n",
        "print('Train Confusion Matrix', ' = ', '\\n', conf_mat_train)\n",
        "conf_mat_test = confusion_matrix(y_test, y_test_pred)\n",
        "print('Test Confusion Matrix', ' = ', '\\n', conf_mat_test)"
      ]
    },
    {
      "cell_type": "markdown",
      "metadata": {
        "id": "rlvFYA2JUH5J"
      },
      "source": [
        "**B**"
      ]
    },
    {
      "cell_type": "code",
      "execution_count": 71,
      "metadata": {
        "colab": {
          "base_uri": "https://localhost:8080/"
        },
        "id": "zCjXz3F0Ue-5",
        "outputId": "ce35fd83-6cc1-4b3b-c42e-ff9660b1990a"
      },
      "outputs": [
        {
          "name": "stdout",
          "output_type": "stream",
          "text": [
            "Train Accuracy of Fold # 1  =  73.21428571428571 %\n",
            "Train Accuracy of Fold # 2  =  70.53571428571429 %\n",
            "Train Accuracy of Fold # 3  =  76.10619469026548 %\n",
            "Train Accuracy of Fold # 4  =  84.070796460177 %\n",
            "Train Accuracy Avrage  =  75.98174778761062 %\n",
            "Test Accuracy of Fold # 1  =  71.05263157894737 %\n",
            "Test Accuracy of Fold # 2  =  76.31578947368422 %\n",
            "Test Accuracy of Fold # 3  =  78.94736842105263 %\n",
            "Test Accuracy of Fold # 4  =  75.67567567567568 %\n",
            "Test Accuracy Avrage  =  75.49786628733999 %\n",
            "Train Confusion Matrix of Fold # 1  =  \n",
            " [[34  0  0]\n",
            " [ 0 38  0]\n",
            " [ 0 30 10]]\n",
            "Train Confusion Matrix of Fold # 2  =  \n",
            " [[37  0  0]\n",
            " [ 0 36  0]\n",
            " [ 0 33  6]]\n",
            "Train Confusion Matrix of Fold # 3  =  \n",
            " [[40  0  0]\n",
            " [ 0 36  0]\n",
            " [ 0 27 10]]\n",
            "Train Confusion Matrix of Fold # 4  =  \n",
            " [[39  0  0]\n",
            " [ 0 40  0]\n",
            " [ 0 18 16]]\n",
            "Train Confusion Matrix Avrage  =  \n",
            " [[37.5  0.   0. ]\n",
            " [ 0.  37.5  0. ]\n",
            " [ 0.  27.  10.5]]\n",
            "Test Confusion Matrix of Fold # 1  =  \n",
            " [[16  0  0]\n",
            " [ 0 12  0]\n",
            " [ 0  9  1]]\n",
            "Test Confusion Matrix of Fold # 2  =  \n",
            " [[13  0  0]\n",
            " [ 0 14  0]\n",
            " [ 0  8  3]]\n",
            "Test Confusion Matrix of Fold # 3  =  \n",
            " [[10  0  0]\n",
            " [ 0 14  0]\n",
            " [ 0  9  4]]\n",
            "Test Confusion Matrix of Fold # 4  =  \n",
            " [[11  0  0]\n",
            " [ 0 10  0]\n",
            " [ 0  5 11]]\n",
            "Test Confusion Matrix Avrage  =  \n",
            " [[12.5   0.    0.  ]\n",
            " [ 0.   12.5   0.  ]\n",
            " [ 0.    7.75  4.75]]\n"
          ]
        }
      ],
      "source": [
        "class Bayes_Classifier:\n",
        "    mu = None\n",
        "    cov = None\n",
        "    n_classes = None\n",
        "    def __init__(self):\n",
        "        a = None\n",
        "    def pred(self,x):\n",
        "        prob_vect = np.zeros(self.n_classes)\n",
        "        for i in range(self.n_classes):\n",
        "            mnormal = multivariate_normal(mean=bayes_classifier.mu[i], cov=bayes_classifier.cov[i])\n",
        "            for k in range(bayes_classifier.cov.shape[-1]):\n",
        "              for j in range(bayes_classifier.cov.shape[-1]):\n",
        "                if k!=j:\n",
        "                  bayes_classifier.cov[:, k, j] = 0.0\n",
        "            prior = 1./self.n_classes\n",
        "            prob_vect[i] = prior*mnormal.pdf(x)\n",
        "            sumatory = 0.\n",
        "            for j in range(self.n_classes):\n",
        "                mnormal = multivariate_normal(mean=bayes_classifier.mu[j], cov=bayes_classifier.cov[j])\n",
        "                sumatory += prior*mnormal.pdf(x)\n",
        "            prob_vect[i] = prob_vect[i]/sumatory\n",
        "        return prob_vect\n",
        "    def fit(self, X,y):\n",
        "        self.mu = []\n",
        "        self.cov = []\n",
        "        self.n_classes = np.max(y)+1\n",
        "        for i in range(self.n_classes):\n",
        "            Xc = X[y==i]\n",
        "            mu_c = np.mean(Xc, axis=0)\n",
        "            self.mu.append(mu_c)\n",
        "            cov_c = np.zeros((X.shape[1], X.shape[1]))\n",
        "            for j in range( Xc.shape[0]):\n",
        "                a = Xc[j].reshape((X.shape[1],1))\n",
        "                b = Xc[j].reshape((1,X.shape[1]))\n",
        "                cov_ci = np.multiply(a, b)\n",
        "                cov_c = cov_c+cov_ci\n",
        "            cov_c = cov_c/float(X.shape[0])\n",
        "            self.cov.append(cov_c)\n",
        "        self.mu = np.asarray(self.mu)\n",
        "        self.cov = np.asarray(self.cov)\n",
        "\n",
        "# K-Fold\n",
        "K_fold_cross_val = KFold(n_splits=4, shuffle=True)\n",
        "K_fold_cross_val.get_n_splits(x_data)\n",
        "\n",
        "# Lists\n",
        "y_train_acc_list = []\n",
        "conf_mat_train_list = []\n",
        "y_test_acc_list = []\n",
        "conf_mat_test_list = []\n",
        "\n",
        "# Fit\n",
        "for train_index, test_index in K_fold_cross_val.split(x_data):\n",
        "  x_train, x_test = x_data[train_index], x_data[test_index]\n",
        "  y_train, y_test = y_data[train_index], y_data[test_index]\n",
        "  bayes_classifier = Bayes_Classifier()\n",
        "  bayes_classifier.fit(x_train,y_train)\n",
        "  # Pridict\n",
        "  y_train_pred = []\n",
        "  for i in range(x_train.shape[0]):\n",
        "    y_train_pred_prob = bayes_classifier.pred(x_train[i,:])\n",
        "    if (y_train_pred_prob[0] > y_train_pred_prob[1]) & (y_train_pred_prob[0] > y_train_pred_prob[2]):\n",
        "      y_train_pred.append(0)\n",
        "    elif (y_train_pred_prob[1] > y_train_pred_prob[0]) & (y_train_pred_prob[1] > y_train_pred_prob[2]):\n",
        "      y_train_pred.append(1)\n",
        "    else :\n",
        "      y_train_pred.append(2)\n",
        "  y_train_pred = np.array(y_train_pred)\n",
        "  y_test_pred = []\n",
        "  for i in range(x_test.shape[0]):\n",
        "    y_test_pred_prob = bayes_classifier.pred(x_test[i,:])\n",
        "    if (y_test_pred_prob[0] > y_test_pred_prob[1]) & (y_test_pred_prob[0] > y_test_pred_prob[2]):\n",
        "      y_test_pred.append(0)\n",
        "    elif (y_test_pred_prob[1] > y_test_pred_prob[0]) & (y_test_pred_prob[1] > y_test_pred_prob[2]):\n",
        "      y_test_pred.append(1)\n",
        "    else :\n",
        "      y_test_pred.append(2)\n",
        "  y_test_acc_list.append(y_test_acc)\n",
        "\n",
        "  # Train: Accuracy & Confusion Matrix\n",
        "  y_train_acc = accuracy_score(y_train, y_train_pred)\n",
        "  y_train_acc_list.append(y_train_acc)\n",
        "  conf_mat_train = confusion_matrix(y_train, y_train_pred)\n",
        "  conf_mat_train_list.append(conf_mat_train)\n",
        "\n",
        "  # Test: Accuracy & Confusion Matrix\n",
        "  y_test_pred = np.array(y_test_pred)\n",
        "  y_test_acc = accuracy_score(y_test, y_test_pred)\n",
        "  conf_mat_test = confusion_matrix(y_test, y_test_pred)\n",
        "  conf_mat_test_list.append(conf_mat_test)\n",
        "\n",
        "\n",
        "for i in range(4):\n",
        "    print('Train Accuracy of Fold #', i + 1, ' = ', y_train_acc_list[i]*100.0, '%')\n",
        "print('Train Accuracy Avrage', ' = ', sum(y_train_acc_list)*100.0/ len(y_train_acc_list), '%' )\n",
        "\n",
        "for i in range(4):\n",
        "    print('Test Accuracy of Fold #', i + 1, ' = ', y_test_acc_list[i]*100.0, '%')\n",
        "print('Test Accuracy Avrage', ' = ', sum(y_test_acc_list)*100.0/ len(y_test_acc_list), '%' )\n",
        "\n",
        "for i in range(4):\n",
        "    print('Train Confusion Matrix of Fold #', i + 1, ' = ', '\\n', conf_mat_train_list[i])\n",
        "print('Train Confusion Matrix Avrage', ' = ', '\\n', sum(conf_mat_train_list)/ len(y_train_acc_list))\n",
        "\n",
        "for i in range(4):\n",
        "    print('Test Confusion Matrix of Fold #', i + 1, ' = ', '\\n', conf_mat_test_list[i])\n",
        "print('Test Confusion Matrix Avrage', ' = ', '\\n', sum(conf_mat_test_list)/ len(y_test_acc_list))"
      ]
    },
    {
      "cell_type": "markdown",
      "metadata": {
        "id": "66lwGDqaUe_C"
      },
      "source": [
        "# **D**"
      ]
    },
    {
      "cell_type": "markdown",
      "metadata": {
        "id": "0J4tbLytb2Bd"
      },
      "source": [
        "**Naive Bayes Classifier**"
      ]
    },
    {
      "cell_type": "code",
      "execution_count": 72,
      "metadata": {
        "id": "enDVSn0DbEdo"
      },
      "outputs": [],
      "source": [
        "def separate_by_class(dataset):\n",
        "\tseparated = dict()\n",
        "\tfor i in range(len(dataset)):\n",
        "\t\tvector = dataset[i]\n",
        "\t\tclass_value = vector[-1]\n",
        "\t\tif (class_value not in separated):\n",
        "\t\t\tseparated[class_value] = list()\n",
        "\t\tseparated[class_value].append(vector)\n",
        "\treturn separated\n",
        "\n",
        "def mean(numbers):\n",
        "\treturn sum(numbers)/float(len(numbers))\n",
        "\n",
        "def stdev(numbers):\n",
        "\tavg = mean(numbers)\n",
        "\tvariance = sum([(x-avg)**2 for x in numbers]) / float(len(numbers)-1)\n",
        "\treturn sqrt(variance)\n",
        "\n",
        "def summarize_dataset(dataset):\n",
        "\tsummaries = [(mean(column), stdev(column), len(column)) for column in zip(*dataset)]\n",
        "\tdel(summaries[-1])\n",
        "\treturn summaries\n",
        "\n",
        "def summarize_by_class(dataset):\n",
        "\tseparated = separate_by_class(dataset)\n",
        "\tsummaries = dict()\n",
        "\tfor class_value, rows in separated.items():\n",
        "\t\tsummaries[class_value] = summarize_dataset(rows)\n",
        "\treturn summaries\n",
        "\n",
        "def calculate_probability(x, mean, stdev):\n",
        "\texponent = exp(-((x-mean)**2 / (2 * stdev**2 )))\n",
        "\treturn (1 / (sqrt(2 * pi) * stdev)) * exponent\n",
        "\n",
        "def calculate_class_probabilities(summaries, row):\n",
        "\ttotal_rows = sum([summaries[label][0][2] for label in summaries])\n",
        "\tprobabilities = dict()\n",
        "\tfor class_value, class_summaries in summaries.items():\n",
        "\t\tprobabilities[class_value] = summaries[class_value][0][2]/float(total_rows)\n",
        "\t\tfor i in range(len(class_summaries)):\n",
        "\t\t\tmean, stdev, _ = class_summaries[i]\n",
        "\t\t\tprobabilities[class_value] *= calculate_probability(row[i], mean, stdev)\n",
        "\treturn probabilities\n",
        "\n",
        "def calculate_output(data_input):\n",
        "   output=[]\n",
        "   for i in range(len(data_input)):\n",
        "     summaries = summarize_by_class(data_train)\n",
        "     probabilities = calculate_class_probabilities(summaries, data_input[i])\n",
        "     output.append(max(probabilities, key=probabilities.get))\n",
        "   return  np.array(output)  \n",
        "\n",
        "def naive_bayes(train, test):\n",
        "\tsummarize = summarize_by_class(train)\n",
        "\tpredictions = list()\n",
        "\tfor row in test:\n",
        "\t\toutput = predict(summarize, row)\n",
        "\t\tpredictions.append(output)\n",
        "\treturn(predictions)\n",
        "\n",
        "def predict(summaries, row):\n",
        "\tprobabilities = calculate_class_probabilities(summaries, row)\n",
        "\tbest_label, best_prob = None, -1\n",
        "\tfor class_value, probability in probabilities.items():\n",
        "\t\tif best_label is None or probability > best_prob:\n",
        "\t\t\tbest_prob = probability\n",
        "\t\t\tbest_label = class_value\n",
        "\treturn best_label"
      ]
    },
    {
      "cell_type": "markdown",
      "metadata": {
        "id": "AQ5kIuO3q8C2"
      },
      "source": [
        "**Fit & Predict**"
      ]
    },
    {
      "cell_type": "code",
      "execution_count": 73,
      "metadata": {
        "colab": {
          "base_uri": "https://localhost:8080/"
        },
        "id": "w4qtST_3f7jJ",
        "outputId": "271f4245-71b9-4e1e-ee28-26de0e4e8a2f"
      },
      "outputs": [
        {
          "name": "stdout",
          "output_type": "stream",
          "text": [
            "Train Accuracy Avrage  =  95.95238095238095 %\n",
            "Test Accuracy Avrage  =  95.55555555555554 %\n",
            "Train Confusion Matrix Avrage  =  \n",
            " [[34.25  0.    0.  ]\n",
            " [ 0.   33.5   2.  ]\n",
            " [ 0.    2.25 33.  ]]\n",
            "Test Confusion Matrix Avrage  =  \n",
            " [[15.75  0.    0.  ]\n",
            " [ 0.   14.    0.5 ]\n",
            " [ 0.    1.5  13.25]]\n"
          ]
        }
      ],
      "source": [
        "# Lists\n",
        "y_train_acc_list = []\n",
        "conf_mat_train_list = []\n",
        "y_test_acc_list = []\n",
        "conf_mat_test_list = []\n",
        "\n",
        "for i in range(4):\n",
        "  # Splite\n",
        "  x_train, x_test, y_train, y_test = train_test_split(x_data, y_data, test_size=0.30)\n",
        "  # Train\n",
        "  y_train_pred = naive_bayes(np.concatenate([x_train, y_train.reshape(-1,1)],axis=1), np.concatenate([x_train, y_train.reshape(-1,1)],axis=1))\n",
        "  y_train_acc = accuracy_score(y_train, y_train_pred)\n",
        "  y_train_acc_list.append(y_train_acc)\n",
        "  conf_mat_train = confusion_matrix(y_train, y_train_pred)\n",
        "  conf_mat_train_list.append(conf_mat_train)\n",
        "  # Test\n",
        "  y_test_pred = naive_bayes(np.concatenate([x_train, y_train.reshape(-1,1)],axis=1), np.concatenate([x_test, y_test.reshape(-1,1)],axis=1))\n",
        "  y_test_acc = accuracy_score(y_test, y_test_pred)\n",
        "  y_test_acc_list.append(y_test_acc)\n",
        "  conf_mat_test = confusion_matrix(y_test, y_test_pred)\n",
        "  conf_mat_test_list.append(conf_mat_test)\n",
        "\n",
        "# Result\n",
        "print('Train Accuracy Avrage', ' = ', sum(y_train_acc_list)*100.0/ len(y_train_acc_list), '%' )\n",
        "print('Test Accuracy Avrage', ' = ', sum(y_test_acc_list)*100.0/ len(y_test_acc_list), '%' )\n",
        "print('Train Confusion Matrix Avrage', ' = ', '\\n', sum(conf_mat_train_list)/ len(y_train_acc_list))\n",
        "print('Test Confusion Matrix Avrage', ' = ', '\\n', sum(conf_mat_test_list)/ len(y_test_acc_list))\n"
      ]
    },
    {
      "cell_type": "markdown",
      "metadata": {
        "id": "SVPujO0sVS6i"
      },
      "source": [
        "# **E**"
      ]
    },
    {
      "cell_type": "markdown",
      "metadata": {
        "id": "KwdpKPqgrRNW"
      },
      "source": [
        "**Naive Bayes Classifier**"
      ]
    },
    {
      "cell_type": "code",
      "execution_count": 74,
      "metadata": {
        "id": "J8Y_vTYRrRNX"
      },
      "outputs": [],
      "source": [
        "def separate_by_class(dataset):\n",
        "\tseparated = dict()\n",
        "\tfor i in range(len(dataset)):\n",
        "\t\tvector = dataset[i]\n",
        "\t\tclass_value = vector[-1]\n",
        "\t\tif (class_value not in separated):\n",
        "\t\t\tseparated[class_value] = list()\n",
        "\t\tseparated[class_value].append(vector)\n",
        "\treturn separated\n",
        "\n",
        "def mean(numbers):\n",
        "\treturn sum(numbers)/float(len(numbers))\n",
        " \n",
        "def stdev(numbers):\n",
        "\tavg = mean(numbers)\n",
        "\tvariance = sum([(x-avg)**2 for x in numbers]) / float(len(numbers)-1)\n",
        "\treturn sqrt(variance)\n",
        " \n",
        "def summarize_dataset(dataset):\n",
        "\tsummaries = [(mean(column), stdev(column), len(column)) for column in zip(*dataset)]\n",
        "\tdel(summaries[-1])\n",
        "\treturn summaries\n",
        " \n",
        "def summarize_by_class(dataset):\n",
        "\tseparated = separate_by_class(dataset)\n",
        "\tsummaries = dict()\n",
        "\tfor class_value, rows in separated.items():\n",
        "\t\tsummaries[class_value] = summarize_dataset(rows)\n",
        "\treturn summaries\n",
        " \n",
        "def calculate_probability(x, mean, stdev):\n",
        "\texponent = exp(-((x-mean)**2 / (2 * stdev**2 )))\n",
        "\treturn (1 / (sqrt(2 * pi) * stdev)) * exponent\n",
        " \n",
        "def calculate_class_probabilities(summaries, row):\n",
        "\ttotal_rows = sum([summaries[label][0][2] for label in summaries])\n",
        "\tprobabilities = dict()\n",
        "\tfor class_value, class_summaries in summaries.items():\n",
        "\t\tprobabilities[class_value] = summaries[class_value][0][2]/float(total_rows)\n",
        "\t\tfor i in range(len(class_summaries)):\n",
        "\t\t\tmean, stdev, _ = class_summaries[i]\n",
        "\t\t\tprobabilities[class_value] *= calculate_probability(row[i], mean, stdev)\n",
        "\treturn probabilities\n",
        "\n",
        "def calculate_output(data_input):\n",
        "   output=[]\n",
        "   for i in range(len(data_input)):\n",
        "     summaries = summarize_by_class(data_train)\n",
        "     probabilities = calculate_class_probabilities(summaries, data_input[i])\n",
        "     output.append(max(probabilities, key=probabilities.get))\n",
        "   return  np.array(output)  \n",
        "\n",
        "def naive_bayes(train, test):\n",
        "\tsummarize = summarize_by_class(train)\n",
        "\tpredictions = list()\n",
        "\tfor row in test:\n",
        "\t\toutput = predict(summarize, row)\n",
        "\t\tpredictions.append(output)\n",
        "\treturn(predictions)\n",
        " \n",
        "def predict(summaries, row):\n",
        "\tprobabilities = calculate_class_probabilities(summaries, row)\n",
        "\tbest_label, best_prob = None, -1\n",
        "\tfor class_value, probability in probabilities.items():\n",
        "\t\tif best_label is None or probability > best_prob:\n",
        "\t\t\tbest_prob = probability\n",
        "\t\t\tbest_label = class_value\n",
        "\treturn best_label"
      ]
    },
    {
      "cell_type": "markdown",
      "metadata": {
        "id": "TgT6lnWerNkt"
      },
      "source": [
        "**Fit & Predict**"
      ]
    },
    {
      "cell_type": "code",
      "execution_count": 75,
      "metadata": {
        "colab": {
          "base_uri": "https://localhost:8080/"
        },
        "id": "RJdY1nARrNkv",
        "outputId": "613b0ace-c21b-4518-dbfa-99df8e813892"
      },
      "outputs": [
        {
          "name": "stdout",
          "output_type": "stream",
          "text": [
            "Train Accuracy Avrage  =  95.77670670037925 %\n",
            "Test Accuracy Avrage  =  95.98150782361307 %\n",
            "Train Confusion Matrix Avrage  =  \n",
            " [[37.5   0.    0.  ]\n",
            " [ 0.   35.5   2.  ]\n",
            " [ 0.    2.75 34.75]]\n",
            "Test Confusion Matrix Avrage  =  \n",
            " [[12.5   0.    0.  ]\n",
            " [ 0.   11.75  0.75]\n",
            " [ 0.    0.75 11.75]]\n"
          ]
        }
      ],
      "source": [
        "# K-Fold\n",
        "K_fold_cross_val = KFold(n_splits=4, shuffle=True)\n",
        "K_fold_cross_val.get_n_splits(x_data)\n",
        "\n",
        "# Lists\n",
        "y_train_acc_list = []\n",
        "conf_mat_train_list = []\n",
        "y_test_acc_list = []\n",
        "conf_mat_test_list = []\n",
        "\n",
        "# Fit\n",
        "for train_index, test_index in K_fold_cross_val.split(x_data):\n",
        "  x_train, x_test = x_data[train_index], x_data[test_index]\n",
        "  y_train, y_test = y_data[train_index], y_data[test_index]\n",
        "  # Train\n",
        "  y_train_pred = naive_bayes(np.concatenate([x_train, y_train.reshape(-1,1)],axis=1), np.concatenate([x_train, y_train.reshape(-1,1)],axis=1))\n",
        "  y_train_acc = accuracy_score(y_train, y_train_pred)\n",
        "  y_train_acc_list.append(y_train_acc)\n",
        "  conf_mat_train = confusion_matrix(y_train, y_train_pred)\n",
        "  conf_mat_train_list.append(conf_mat_train)\n",
        "  # Test\n",
        "  y_test_pred = naive_bayes(np.concatenate([x_train, y_train.reshape(-1,1)],axis=1), np.concatenate([x_test, y_test.reshape(-1,1)],axis=1))\n",
        "  y_test_acc = accuracy_score(y_test, y_test_pred)\n",
        "  y_test_acc_list.append(y_test_acc)\n",
        "  conf_mat_test = confusion_matrix(y_test, y_test_pred)\n",
        "  conf_mat_test_list.append(conf_mat_test)\n",
        "\n",
        "# Result\n",
        "print('Train Accuracy Avrage', ' = ', sum(y_train_acc_list)*100.0/ len(y_train_acc_list), '%' )\n",
        "print('Test Accuracy Avrage', ' = ', sum(y_test_acc_list)*100.0/ len(y_test_acc_list), '%' )\n",
        "print('Train Confusion Matrix Avrage', ' = ', '\\n', sum(conf_mat_train_list)/ len(y_train_acc_list))\n",
        "print('Test Confusion Matrix Avrage', ' = ', '\\n', sum(conf_mat_test_list)/ len(y_test_acc_list))"
      ]
    }
  ],
  "metadata": {
    "colab": {
      "name": "ML-HW2-2.ipynb",
      "provenance": []
    },
    "kernelspec": {
      "display_name": "Python 3",
      "name": "python3"
    },
    "language_info": {
      "name": "python"
    }
  },
  "nbformat": 4,
  "nbformat_minor": 0
}
