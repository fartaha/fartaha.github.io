{
  "nbformat": 4,
  "nbformat_minor": 0,
  "metadata": {
    "colab": {
      "provenance": []
    },
    "kernelspec": {
      "name": "python3",
      "display_name": "Python 3"
    },
    "language_info": {
      "name": "python"
    }
  },
  "cells": [
    {
      "cell_type": "code",
      "execution_count": null,
      "metadata": {
        "id": "5sMBeGR7i3Wk"
      },
      "outputs": [],
      "source": [
        "skip_training = False # True before validation"
      ]
    },
    {
      "cell_type": "code",
      "source": [
        "import os\n",
        "import numpy as np\n",
        "import pandas as pd\n",
        "import matplotlib.pyplot as plt\n",
        "%matplotlib inline\n",
        "\n",
        "import torch\n",
        "import torch.nn as nn\n",
        "import torch.nn.functional as F"
      ],
      "metadata": {
        "id": "kSZv0OzajFH0"
      },
      "execution_count": null,
      "outputs": []
    },
    {
      "cell_type": "code",
      "source": [
        "# Select device which you are going to use for training\n",
        "#device = torch.device(\"cuda:0\")\n",
        "device = torch.device(\"cpu\")"
      ],
      "metadata": {
        "id": "X6nkyA2HjL1e"
      },
      "execution_count": null,
      "outputs": []
    },
    {
      "cell_type": "code",
      "source": [
        "if skip_training:\n",
        "    # The models are always evaluated on CPU\n",
        "    device = torch.device(\"cpu\")"
      ],
      "metadata": {
        "id": "FXOCAO0EjOUm"
      },
      "execution_count": null,
      "outputs": []
    },
    {
      "cell_type": "markdown",
      "source": [
        "# **Generating Data** "
      ],
      "metadata": {
        "id": "-KULUHVRjUhW"
      }
    },
    {
      "cell_type": "code",
      "source": [
        "# Generating a dataset\n",
        "def get_data():\n",
        "    np.random.seed()\n",
        "    x = np.random.randn(100,1)\n",
        "    x = np.sort(x,axis=0)\n",
        "    \n",
        "    target = 2 * np.tanh(x * 2 * np.pi /3)\n",
        "    target = target + 0.2 * np.random.randn(*target.shape)\n",
        "    \n",
        "    x = torch.FloatTensor(x)\n",
        "    target = torch.FloatTensor(target)\n",
        "    \n",
        "    return x, target"
      ],
      "metadata": {
        "id": "-KSw51jtjbml"
      },
      "execution_count": null,
      "outputs": []
    },
    {
      "cell_type": "code",
      "source": [
        "x, target = get_data()\n",
        "fix, ax = plt.subplots(1)\n",
        "ax.plot(x,target, '.')"
      ],
      "metadata": {
        "colab": {
          "base_uri": "https://localhost:8080/",
          "height": 282
        },
        "id": "5cWE_ix9jfAc",
        "outputId": "1b22e271-af32-407e-80d7-0f35959979f0"
      },
      "execution_count": null,
      "outputs": [
        {
          "output_type": "execute_result",
          "data": {
            "text/plain": [
              "[<matplotlib.lines.Line2D at 0x7faad47d8a50>]"
            ]
          },
          "metadata": {},
          "execution_count": 6
        },
        {
          "output_type": "display_data",
          "data": {
            "text/plain": [
              "<Figure size 432x288 with 1 Axes>"
            ],
            "image/png": "[encoded data removed]"
          },
          "metadata": {
            "needs_background": "light"
          }
        }
      ]
    },
    {
      "cell_type": "code",
      "source": [
        "class MLP(nn.Module):\n",
        "    def __init__(self, n_inputs = 1):\n",
        "        super(MLP,self).__init__()\n",
        "        self.fc1 = nn.Linear(1,10)\n",
        "        self.fc2 = nn.Linear(10,11)\n",
        "        self.fc3 = nn.Linear(11,1)\n",
        "    \n",
        "    def forward(self,x):\n",
        "        x1 = torch.tanh(self.fc1(x))\n",
        "        x2 = torch.tanh(self.fc2(x1))\n",
        "        y = self.fc3(x2)\n",
        "        return y"
      ],
      "metadata": {
        "id": "OXN16HOOjhLU"
      },
      "execution_count": null,
      "outputs": []
    },
    {
      "cell_type": "code",
      "source": [
        "model = MLP()\n",
        "model.to(device)"
      ],
      "metadata": {
        "colab": {
          "base_uri": "https://localhost:8080/"
        },
        "id": "nungD2btjl3E",
        "outputId": "842340cb-3762-4004-8c76-1ece3499d1c4"
      },
      "execution_count": null,
      "outputs": [
        {
          "output_type": "execute_result",
          "data": {
            "text/plain": [
              "MLP(\n",
              "  (fc1): Linear(in_features=1, out_features=10, bias=True)\n",
              "  (fc2): Linear(in_features=10, out_features=11, bias=True)\n",
              "  (fc3): Linear(in_features=11, out_features=1, bias=True)\n",
              ")"
            ]
          },
          "metadata": {},
          "execution_count": 8
        }
      ]
    },
    {
      "cell_type": "code",
      "source": [
        "if not skip_training:\n",
        "    iteration = 200\n",
        "    l_r = 0.01\n",
        "    criterion = F.mse_loss\n",
        "    model.zero_grad()\n",
        "    optimizer = torch.optim.Adam(model.parameters(),l_r)\n",
        "    \n",
        "    for _ in range(iteration):\n",
        "        optimizer.zero_grad()\n",
        "        y_predict = model(x)\n",
        "        loss = criterion(target, y_predict)\n",
        "        loss.backward()\n",
        "        optimizer.step()\n",
        "        print(loss)"
      ],
      "metadata": {
        "id": "L0fr1f78joYE"
      },
      "execution_count": null,
      "outputs": []
    },
    {
      "cell_type": "code",
      "source": [
        "with torch.no_grad():\n",
        "    fig, ax = plt.subplots(1)\n",
        "    ax.plot(x,target,'.')\n",
        "    y_predict = model(x)\n",
        "    ax.plot(x,y_predict.numpy(),'r-')\n",
        "    ax.grid(True)"
      ],
      "metadata": {
        "colab": {
          "base_uri": "https://localhost:8080/",
          "height": 265
        },
        "id": "zhDnFMCVjqKk",
        "outputId": "00f49317-03f9-4bfb-925e-7822b242a3a5"
      },
      "execution_count": null,
      "outputs": [
        {
          "output_type": "display_data",
          "data": {
            "text/plain": [
              "<Figure size 432x288 with 1 Axes>"
            ],
            "image/png": "[encoded data removed]"
          },
          "metadata": {
            "needs_background": "light"
          }
        }
      ]
    }
  ]
}